{
 "cells": [
  {
   "cell_type": "code",
   "execution_count": 19,
   "metadata": {},
   "outputs": [
    {
     "data": {
      "text/plain": [
       "True"
      ]
     },
     "execution_count": 19,
     "metadata": {},
     "output_type": "execute_result"
    }
   ],
   "source": [
    "from typing import TypedDict, Annotated, Union\n",
    "from langchain_core.agents import AgentAction, AgentFinish\n",
    "from langchain_core.messages import BaseMessage\n",
    "from langchain_core.prompts.prompt import PromptTemplate\n",
    "from langchain_core.runnables.base import RunnableSequence\n",
    "import operator\n",
    "from langgraph.prebuilt.tool_executor import ToolExecutor\n",
    "from langchain_google_genai import GoogleGenerativeAI\n",
    "from langchain_community.tools.tavily_search import TavilySearchResults\n",
    "from dotenv import load_dotenv\n",
    "from langchain.agents import create_react_agent\n",
    "from langchain import hub\n",
    "from langgraph.graph import END, StateGraph\n",
    "\n",
    "load_dotenv()\n",
    "\n"
   ]
  },
  {
   "cell_type": "code",
   "execution_count": 13,
   "metadata": {},
   "outputs": [],
   "source": [
    "class AgentState(TypedDict):\n",
    "    input: str\n",
    "    chat_history: list[BaseMessage]\n",
    "    agent_outcome: Union[AgentAction, AgentFinish, None]\n",
    "    intermediate_steps: Annotated[list[tuple[AgentAction, str]], operator.add]\n"
   ]
  },
  {
   "cell_type": "code",
   "execution_count": 15,
   "metadata": {},
   "outputs": [],
   "source": [
    "tools: list = [TavilySearchResults(max_results=1)]\n",
    "tool_executor: ToolExecutor = ToolExecutor(tools)\n",
    "prompt: PromptTemplate = hub.pull(\"hwchase17/react\")\n",
    "llm: GoogleGenerativeAI =  GoogleGenerativeAI(model=\"gemini-pro\")\n",
    "agent: RunnableSequence = create_react_agent(llm=llm, tools=tools, prompt=prompt)"
   ]
  },
  {
   "cell_type": "code",
   "execution_count": 16,
   "metadata": {},
   "outputs": [],
   "source": [
    "def run_agent(data):\n",
    "    agent_outcome: str = agent.invoke(data)\n",
    "    return {\"agent_outcome\" : agent_outcome}\n"
   ]
  },
  {
   "cell_type": "code",
   "execution_count": 17,
   "metadata": {},
   "outputs": [],
   "source": [
    "def execute_tools(data):\n",
    "    agent_action = data[\"agent_outcome\"]\n",
    "    output = tool_executor.invoke(agent_action)\n",
    "    return {\"intermediate_steps\": [(agent_action, str(output))]}\n"
   ]
  },
  {
   "cell_type": "code",
   "execution_count": 18,
   "metadata": {},
   "outputs": [],
   "source": [
    "def should_continue(data):\n",
    "    if isinstance(data[\"agent_outcome\"], AgentFinish):\n",
    "        return \"end\"\n",
    "    else:\n",
    "        return \"continue\"\n"
   ]
  },
  {
   "cell_type": "code",
   "execution_count": 20,
   "metadata": {},
   "outputs": [],
   "source": [
    "    \n",
    "# Graph app\n",
    "\n",
    "workflow = StateGraph(AgentState)\n",
    "workflow.add_node(\"agent\", run_agent)\n",
    "workflow.add_node(\"action\", execute_tools)\n",
    "workflow.set_entry_point(\"agent\")\n",
    "workflow.add_conditional_edges(\"agent\", should_continue, {\"continue\": \"action\", \"end\": END})\n",
    "workflow.add_edge(\"action\", \"agent\")\n"
   ]
  },
  {
   "cell_type": "code",
   "execution_count": 24,
   "metadata": {},
   "outputs": [],
   "source": [
    "app = workflow.compile()"
   ]
  },
  {
   "cell_type": "code",
   "execution_count": 25,
   "metadata": {},
   "outputs": [],
   "source": [
    "inputs = {\"input\": \"What is the capital of India?\", \"chat_history\": []}"
   ]
  },
  {
   "cell_type": "code",
   "execution_count": 26,
   "metadata": {},
   "outputs": [
    {
     "name": "stdout",
     "output_type": "stream",
     "text": [
      "{'agent_outcome': AgentAction(tool='tavily_search_results_json', tool_input='What is the capital of India?', log='Action: tavily_search_results_json\\nAction Input: What is the capital of India?')}\n",
      "----\n",
      "{'intermediate_steps': [(AgentAction(tool='tavily_search_results_json', tool_input='What is the capital of India?', log='Action: tavily_search_results_json\\nAction Input: What is the capital of India?'), '[{\\'url\\': \\'https://en.wikipedia.org/wiki/Delhi\\', \\'content\\': \"New Delhi was officially declared as the capital of the Union of India after the country gained independence on 15 August 1947.[55] It has expanded since; the small part of it that was constructed during the British period has come to be informally known as Lutyens\\' Delhi.[56]\\\\nPartition and post-independence\\\\nDuring the partition of India, around five hundred thousand Hindu and Sikh refugees, mainly from West Punjab fled to Delhi, while around three hundred thousand Muslim residents of the city migrated to Pakistan.[59][60] Ethnic Punjabis are believed to account for at least 40% of Delhi\\'s total population and are predominantly Hindi-speaking Punjabi Hindus.[61][62][63] Migration to Delhi from the rest of India continues (as of 2013[update]), contributing more to the rise of Delhi\\'s population than the birth rate, which is declining.[64]\\\\nThe States Reorganisation Act, 1956 created the Union Territory of Delhi from its predecessor, the Chief Commissioner\\'s Province of Delhi.[1][2] According to the 2011 census, Delhi\\'s city proper population was over 11\\\\xa0million,[6][16] while the NCT\\'s population was about 16.8\\\\xa0million.[7]\\\\nDelhi\\'s urban agglomeration, which includes the satellite cities Ghaziabad, Faridabad, Gurgaon, Noida, Greater Noida, Meerut and YEIDA city in an area known as the National Capital Region (NCR), has an estimated population of over 28\\\\xa0million, making it the largest metropolitan area in India and the second-largest in the world (after Tokyo).[8]\\\\nThe topography of the medieval fort Purana Qila on the banks of the river Yamuna matches the literary description of the citadel Indraprastha in the Sanskrit epic Mahabharata; however, excavations in the area have revealed no signs of an ancient built environment. In addition to the wetlands formed by the Yamuna river, Delhi continues to retain over 500 ponds (wetlands < 5\\\\xa0ha (12 acres)), that in turn support considerable number of bird species.[76] Delhi\\'s ponds, despite experiencing ecological deterioration due to garbage dumping and concretisation, support the largest number of bird species known to be using ponds anywhere in the world.[77] Existing policy in Delhi prevents the conversion of wetlands and, quite inadvertently, has led to the city\\'s ponds becoming invaluable refugia for birds.[76][77]\\\\nThe National Capital Territory of Delhi covers an area of 1,483\\\\xa0km2 (573\\\\xa0sq\\\\xa0mi), of which 783\\\\xa0km2 (302\\\\xa0sq\\\\xa0mi) is designated rural, and 700\\\\xa0km2 (270\\\\xa0sq\\\\xa0mi) urban therefore making it the largest city in terms of area in the country. The Mughal dynasty ruled Delhi for more than three centuries, with a sixteen-year hiatus during the reigns of Sher Shah Suri and Hemu from 1540 to 1556.[43] Shah Jahan built the seventh city of Delhi that bears his name Shahjahanabad, which served as the capital of the Mughal Empire from 1638 and is today known as the Old City or Old Delhi.[44]\\\\nAfter the death of Aurangzeb in 1707, the Mughal Empire\\'s influence declined rapidly as the Hindu Maratha Empire from Deccan Plateau rose to prominence.[45] In 1737, Maratha forces led by Baji Rao I sacked Delhi following their victory against the Mughals in the First Battle of Delhi. Delhi hosted the inaugural 1951 Asian Games, the 1982 Asian Games, the 1983 Non-Aligned Movement summit, the 2010 Men\\'s Hockey World Cup, the 2010 Commonwealth Games, and the 2012 BRICS summit and was one of the major host cities of the 2011 Cricket World Cup and 2023 Cricket World Cup\\\\nToponym\\\\nThere are a number of myths and legends associated with the origin of the name Delhi.\"}]')]}\n",
      "----\n",
      "{'agent_outcome': AgentAction(tool='tavily_search_results_json', tool_input='What is the capital of India?', log='Action: tavily_search_results_json\\nAction Input: What is the capital of India?')}\n",
      "----\n",
      "{'intermediate_steps': [(AgentAction(tool='tavily_search_results_json', tool_input='What is the capital of India?', log='Action: tavily_search_results_json\\nAction Input: What is the capital of India?'), \"[{'url': 'https://earth.esa.int/web/earth-watching/image-of-the-week/content/-/article/new-delhi-india/', 'content': 'Lutyens also designed the majestic red sandstone and marble Rashtrapati Bhawan, formerly the palace of the viceroy and now the residence of the president, which is in the centre of the city, along with parliament and other important government buildings. New Delhi and surrounding areas were once a part of the Aravali Range; all that is left of those mountains is the Delhi Ridge, which is also called the Lungs of Delhi. New Delhi was built between 1912 and 1929 on a site adjacent to Delhi (or Old Delhi), which had been chosen to replace Calcutta (now Kolkata) as the capital of India in 1911; New Delhi was inaugurated as the new capital in 1931.\\\\n The public transport system in the city was greatly improved at the end of 2002, when the first section of a modern underground rail network, which is to be completed by 2005, opened to commuters.\\\\n The skyline of the city has developed with new areas constructed and new infrastructure around the suburbs of the city.\\\\n'}]\")]}\n",
      "----\n",
      "{'agent_outcome': AgentAction(tool='tavily_search_results_json', tool_input='What is the capital of India?', log='Action: tavily_search_results_json\\nAction Input: What is the capital of India?')}\n",
      "----\n",
      "{'intermediate_steps': [(AgentAction(tool='tavily_search_results_json', tool_input='What is the capital of India?', log='Action: tavily_search_results_json\\nAction Input: What is the capital of India?'), \"HTTPError('502 Server Error: Bad Gateway for url: https://api.tavily.com/search')\")]}\n",
      "----\n",
      "{'agent_outcome': AgentAction(tool='tavily_search_results_json', tool_input='What is the capital of India?', log='Action: tavily_search_results_json\\nAction Input: What is the capital of India?')}\n",
      "----\n",
      "{'intermediate_steps': [(AgentAction(tool='tavily_search_results_json', tool_input='What is the capital of India?', log='Action: tavily_search_results_json\\nAction Input: What is the capital of India?'), \"[{'url': 'https://www.britannica.com/place/New-Delhi', 'content': 'Where is New Delhi?\\\\nNew Delhi is situated in the north-central part of India on the west bank of the Yamuna River, adjacent to and just south of Old Delhi, the historic centre of Delhi, and within the Delhi national capital territory.\\\\n It is situated in the north-central part of the country on the west bank of the Yamuna River, adjacent to and just south of Delhi city (Old Delhi) and within the Delhi national capital territory.\\\\n The straight and diagonal pattern of the broad tree-lined avenues in New Delhi, with extensive green spaces and wide vistas, contrasts sharply with the crowded, narrow, and winding streets characteristic of Old Delhi. Construction began in 1912 at a site about 3 miles (5 km), south of the Delhi city centre, and the new capital was formally dedicated in 1931.\\\\n Recent News\\\\nWhat is New Delhi?\\\\nNew Delhi is the national capital of India.\\\\n'}]\")]}\n",
      "----\n",
      "{'agent_outcome': AgentFinish(return_values={'output': 'New Delhi'}, log='Final Answer: New Delhi')}\n",
      "----\n"
     ]
    }
   ],
   "source": [
    "for stream in app.stream(inputs):\n",
    "    print(list(stream.values())[0])\n",
    "    print(\"----\")"
   ]
  },
  {
   "cell_type": "code",
   "execution_count": null,
   "metadata": {},
   "outputs": [],
   "source": []
  }
 ],
 "metadata": {
  "kernelspec": {
   "display_name": "langgraphvenv",
   "language": "python",
   "name": "python3"
  },
  "language_info": {
   "codemirror_mode": {
    "name": "ipython",
    "version": 3
   },
   "file_extension": ".py",
   "mimetype": "text/x-python",
   "name": "python",
   "nbconvert_exporter": "python",
   "pygments_lexer": "ipython3",
   "version": "3.12.3"
  }
 },
 "nbformat": 4,
 "nbformat_minor": 2
}
